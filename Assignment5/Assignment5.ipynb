{
 "cells": [
  {
   "cell_type": "markdown",
   "metadata": {},
   "source": [
    " #### UniProt SPARQL Endpoint:  http://sparql.uniprot.org/sparql"
   ]
  },
  {
   "cell_type": "markdown",
   "metadata": {},
   "source": [
    "Setting the endpoint and the format:"
   ]
  },
  {
   "cell_type": "code",
   "execution_count": 1,
   "metadata": {
    "scrolled": true
   },
   "outputs": [
    {
     "data": {
      "text/html": [
       "<div class=\"krn-spql\"><div class=\"magic\">Endpoint set to: https://sparql.uniprot.org/sparql</div><div class=\"magic\">Return format: JSON</div></div>"
      ],
      "text/plain": [
       "Endpoint set to: https://sparql.uniprot.org/sparql\n",
       "Return format: JSON\n"
      ]
     },
     "metadata": {},
     "output_type": "display_data"
    }
   ],
   "source": [
    "%endpoint https://sparql.uniprot.org/sparql\n",
    "%format JSON"
   ]
  },
  {
   "cell_type": "markdown",
   "metadata": {},
   "source": [
    "#### Q1: 1 POINT  How many protein records are in UniProt? "
   ]
  },
  {
   "cell_type": "code",
   "execution_count": 2,
   "metadata": {},
   "outputs": [
    {
     "data": {
      "text/html": [
       "<div class=\"krn-spql\"><table><tr class=hdr><th>count</th></tr><tr class=odd><td class=val>360157660</td></tr></table><div class=\"tinfo\">Total: 1, Shown: 1</div></div>"
      ]
     },
     "metadata": {},
     "output_type": "display_data"
    }
   ],
   "source": [
    "PREFIX up: <http://purl.uniprot.org/core/>\n",
    "\n",
    "SELECT (COUNT (?protein) AS ?count)\n",
    "\n",
    "WHERE\n",
    "{\n",
    "    ?protein a up:Protein .\n",
    "}"
   ]
  },
  {
   "cell_type": "markdown",
   "metadata": {},
   "source": [
    "#### Q2: 1 POINT How many Arabidopsis thaliana protein records are in UniProt?"
   ]
  },
  {
   "cell_type": "code",
   "execution_count": 5,
   "metadata": {},
   "outputs": [
    {
     "data": {
      "text/html": [
       "<div class=\"krn-spql\"><table><tr class=hdr><th>count</th></tr><tr class=odd><td class=val>136782</td></tr></table><div class=\"tinfo\">Total: 1, Shown: 1</div></div>"
      ]
     },
     "metadata": {},
     "output_type": "display_data"
    }
   ],
   "source": [
    "PREFIX rdfs: <http://www.w3.org/2000/01/rdf-schema#>\n",
    "PREFIX up: <http://purl.uniprot.org/core/>\n",
    "\n",
    "SELECT (COUNT (DISTINCT ?protein) AS ?count)\n",
    "\n",
    "WHERE\n",
    "{\n",
    "    ?protein a up:Protein ;\n",
    "      \t\tup:organism ?taxon_id .\n",
    "  \t?taxon_id a up:Taxon ;\n",
    "    \t\tup:scientificName \"Arabidopsis thaliana\" .\n",
    "}"
   ]
  },
  {
   "cell_type": "markdown",
   "metadata": {},
   "source": [
    "#### Q3: 1 POINT retrieve pictures of Arabidopsis thaliana from UniProt? "
   ]
  },
  {
   "cell_type": "code",
   "execution_count": 10,
   "metadata": {},
   "outputs": [
    {
     "data": {
      "text/html": [
       "<div class=\"krn-spql\"><table><tr class=hdr><th>image</th></tr><tr class=odd><td class=val><a href=\"https://upload.wikimedia.org/wikipedia/commons/3/39/Arabidopsis.jpg\" target=\"_other\">https://upload.wikimedia.org/wikipedia/commons/3/39/Arabidopsis.jpg</a></td></tr><tr class=even><td class=val><a href=\"https://upload.wikimedia.org/wikipedia/commons/thumb/6/60/Arabidopsis_thaliana_inflorescencias.jpg/800px-Arabidopsis_thaliana_inflorescencias.jpg\" target=\"_other\">https://upload.wikimedia.org/wikipedia/commons/thumb/6/60/Arabidopsis_thaliana_inflorescencias.jpg/800px-Arabidopsis_thaliana_inflorescencias.jpg</a></td></tr></table><div class=\"tinfo\">Total: 2, Shown: 2</div></div>"
      ]
     },
     "metadata": {},
     "output_type": "display_data"
    }
   ],
   "source": [
    "PREFIX foaf: <http://xmlns.com/foaf/0.1/>\n",
    "PREFIX up: <http://purl.uniprot.org/core/>\n",
    "\n",
    "SELECT ?image\n",
    "\n",
    "WHERE\n",
    "{\n",
    "  ?taxon_id a up:Taxon;\n",
    "    \t\tup:scientificName \"Arabidopsis thaliana\";\n",
    "      \t\tfoaf:depiction ?image .\n",
    "  ?image a foaf:Image .\n",
    "}"
   ]
  },
  {
   "cell_type": "markdown",
   "metadata": {},
   "source": [
    "#### Q4: 1 POINT:  What is the description of the enzyme activity of UniProt Protein Q9SZZ8 "
   ]
  },
  {
   "cell_type": "code",
   "execution_count": 14,
   "metadata": {},
   "outputs": [
    {
     "data": {
      "text/html": [
       "<div class=\"krn-spql\"><table><tr class=hdr><th>activity_label</th></tr><tr class=odd><td class=val>Beta-carotene + 4 reduced ferredoxin [iron-sulfur] cluster + 2 H(+) + 2 O(2) = zeaxanthin + 4 oxidized ferredoxin [iron-sulfur] cluster + 2 H(2)O.</td></tr></table><div class=\"tinfo\">Total: 1, Shown: 1</div></div>"
      ]
     },
     "metadata": {},
     "output_type": "display_data"
    }
   ],
   "source": [
    "PREFIX up:<http://purl.uniprot.org/core/>\n",
    "PREFIX uniprotkb:<http://purl.uniprot.org/uniprot/>\n",
    "PREFIX rdfs:<http://www.w3.org/2000/01/rdf-schema#> \n",
    "\n",
    "SELECT ?activity_label \n",
    "\n",
    "WHERE\n",
    "{\n",
    "\tuniprotkb:Q9SZZ8 a up:Protein ;\n",
    "  \t\t\t\t\tup:enzyme ?enzyme .\n",
    "\t?enzyme up:activity ?activity .\n",
    "  \t?activity a up:Catalytic_Activity ;\n",
    "                rdfs:label ?activity_label .\n",
    "}"
   ]
  },
  {
   "cell_type": "markdown",
   "metadata": {},
   "source": [
    "#### Q5: 1 POINT:  Retrieve the proteins ids, and date of submission, for proteins that have been added to UniProt this year   (HINT Google for “SPARQL FILTER by date”)"
   ]
  },
  {
   "cell_type": "markdown",
   "metadata": {},
   "source": [
    "(This year: 2021)"
   ]
  },
  {
   "cell_type": "markdown",
   "metadata": {},
   "source": [
    "From: https://en.wikibooks.org/wiki/SPARQL/Expressions_and_Functions\n",
    "\n",
    "STR(value) converts value into a string.\n",
    "\n",
    "REPLACE(string, substring, replacement) replaces all occurrences of substring found in string by a replacement.\n",
    "\n",
    "BIND(expression as ?variable) assigns the result of expression to the variable ?variable."
   ]
  },
  {
   "cell_type": "markdown",
   "metadata": {},
   "source": [
    "I need to limit the number of results, otherwise this query won't work on the jupyter notebook (it keeps loading for a long time and the kernel eventually disconnects). It works fine without limit on the Uniprot sparql endpoint webpage and the results are almost immediate there."
   ]
  },
  {
   "cell_type": "code",
   "execution_count": 19,
   "metadata": {},
   "outputs": [
    {
     "data": {
      "text/html": [
       "<div class=\"krn-spql\"><table><tr class=hdr><th>id</th>\n",
       "<th>date</th></tr><tr class=odd><td class=val>A0A1H7ADE3</td>\n",
       "<td class=val>2021-06-02</td></tr><tr class=even><td class=val>A0A1V1AIL4</td>\n",
       "<td class=val>2021-06-02</td></tr><tr class=odd><td class=val>A0A2Z0L603</td>\n",
       "<td class=val>2021-06-02</td></tr><tr class=even><td class=val>A0A4J5GG53</td>\n",
       "<td class=val>2021-04-07</td></tr><tr class=odd><td class=val>A0A6G8SU52</td>\n",
       "<td class=val>2021-02-10</td></tr><tr class=even><td class=val>A0A6G8SU69</td>\n",
       "<td class=val>2021-02-10</td></tr><tr class=odd><td class=val>A0A7C9JLR7</td>\n",
       "<td class=val>2021-02-10</td></tr><tr class=even><td class=val>A0A7C9JMZ7</td>\n",
       "<td class=val>2021-02-10</td></tr><tr class=odd><td class=val>A0A7C9KUQ4</td>\n",
       "<td class=val>2021-02-10</td></tr><tr class=even><td class=val>A0A7D4HP61</td>\n",
       "<td class=val>2021-02-10</td></tr><tr class=odd><td class=val>A0A7D6A5N9</td>\n",
       "<td class=val>2021-06-02</td></tr><tr class=even><td class=val>A0A7D6FMY9</td>\n",
       "<td class=val>2021-02-10</td></tr><tr class=odd><td class=val>A0A7D6VKU9</td>\n",
       "<td class=val>2021-02-10</td></tr><tr class=even><td class=val>A0A7D6VKZ9</td>\n",
       "<td class=val>2021-02-10</td></tr><tr class=odd><td class=val>A0A7D7EJU1</td>\n",
       "<td class=val>2021-02-10</td></tr><tr class=even><td class=val>A0A7D7HYH9</td>\n",
       "<td class=val>2021-02-10</td></tr><tr class=odd><td class=val>A0A7G5HK20</td>\n",
       "<td class=val>2021-02-10</td></tr><tr class=even><td class=val>A0A7G6B4J7</td>\n",
       "<td class=val>2021-02-10</td></tr><tr class=odd><td class=val>A0A7G6T9F2</td>\n",
       "<td class=val>2021-02-10</td></tr><tr class=even><td class=val>A0A7G7EDL3</td>\n",
       "<td class=val>2021-02-10</td></tr></table><div class=\"tinfo\">Total: 20, Shown: 20</div></div>"
      ]
     },
     "metadata": {},
     "output_type": "display_data"
    }
   ],
   "source": [
    "PREFIX up: <http://purl.uniprot.org/core/>\n",
    "PREFIX xsd: <http://www.w3.org/2001/XMLSchema#>\n",
    "\n",
    "SELECT ?id ?date\n",
    "\n",
    "WHERE\n",
    "{\n",
    "    ?protein a up:Protein ;\n",
    "               up:created ?date .\n",
    "    FILTER (?date >= \"2021-01-01\"^^xsd:date && ?date < \"2022-01-01\"^^xsd:date) .\n",
    "    BIND (REPLACE(STR(?protein), \"http://purl.uniprot.org/uniprot/\", \"\") AS ?id) .\n",
    "    \n",
    "} LIMIT 20"
   ]
  },
  {
   "cell_type": "markdown",
   "metadata": {},
   "source": [
    "#### Q6: 1 POINT How  many species are in the UniProt taxonomy?"
   ]
  },
  {
   "cell_type": "code",
   "execution_count": 4,
   "metadata": {},
   "outputs": [
    {
     "data": {
      "text/html": [
       "<div class=\"krn-spql\"><table><tr class=hdr><th>count</th></tr><tr class=odd><td class=val>2029846</td></tr></table><div class=\"tinfo\">Total: 1, Shown: 1</div></div>"
      ]
     },
     "metadata": {},
     "output_type": "display_data"
    }
   ],
   "source": [
    "PREFIX up: <http://purl.uniprot.org/core/>\n",
    "\n",
    "SELECT (COUNT (DISTINCT ?taxon) AS ?count)\n",
    "\n",
    "WHERE\n",
    "{\n",
    "  ?taxon a up:Taxon;\n",
    "          up:rank up:Species .\n",
    "}"
   ]
  },
  {
   "cell_type": "markdown",
   "metadata": {},
   "source": [
    "#### Q7: 2 POINT  How many species have at least one protein record? (this might take a long time to execute, so do this one last!)"
   ]
  },
  {
   "cell_type": "code",
   "execution_count": 13,
   "metadata": {},
   "outputs": [
    {
     "data": {
      "text/html": [
       "<div class=\"krn-spql\"><table><tr class=hdr><th>count</th></tr><tr class=odd><td class=val>1057158</td></tr></table><div class=\"tinfo\">Total: 1, Shown: 1</div></div>"
      ]
     },
     "metadata": {},
     "output_type": "display_data"
    }
   ],
   "source": [
    "PREFIX up: <http://purl.uniprot.org/core/>\n",
    "\n",
    "SELECT (COUNT (DISTINCT ?taxon) AS ?count)\n",
    "\n",
    "WHERE\n",
    "{\n",
    "  ?protein a up:Protein;\n",
    "           up:organism ?taxon .\n",
    "  ?taxon a up:Taxon;\n",
    "          up:rank up:Species .\n",
    "}"
   ]
  },
  {
   "cell_type": "markdown",
   "metadata": {},
   "source": [
    "#### Q8: 3 points:  find the AGI codes and gene names for all Arabidopsis thaliana  proteins that have a protein function annotation description that mentions “pattern formation”"
   ]
  },
  {
   "cell_type": "markdown",
   "metadata": {},
   "source": [
    "REGEX (string, regex, \"i\") checks if the string contains the regular expression regex, \"i\" means case insensitive."
   ]
  },
  {
   "cell_type": "code",
   "execution_count": 5,
   "metadata": {},
   "outputs": [
    {
     "data": {
      "text/html": [
       "<div class=\"krn-spql\"><table><tr class=hdr><th>locus_code</th>\n",
       "<th>gene_name</th></tr><tr class=odd><td class=val>At3g54220</td>\n",
       "<td class=val>SCR</td></tr><tr class=even><td class=val>At4g21750</td>\n",
       "<td class=val>ATML1</td></tr><tr class=odd><td class=val>At1g13980</td>\n",
       "<td class=val>GN</td></tr><tr class=even><td class=val>At5g40260</td>\n",
       "<td class=val>SWEET8</td></tr><tr class=odd><td class=val>At1g69670</td>\n",
       "<td class=val>CUL3B</td></tr><tr class=even><td class=val>At1g63700</td>\n",
       "<td class=val>YDA</td></tr><tr class=odd><td class=val>At2g46710</td>\n",
       "<td class=val>ROPGAP3</td></tr><tr class=even><td class=val>At1g26830</td>\n",
       "<td class=val>CUL3A</td></tr><tr class=odd><td class=val>At3g09090</td>\n",
       "<td class=val>DEX1</td></tr><tr class=even><td class=val>At4g37650</td>\n",
       "<td class=val>SHR</td></tr><tr class=odd><td class=val>At5g55250</td>\n",
       "<td class=val>IAMT1</td></tr><tr class=even><td class=val>At3g02130</td>\n",
       "<td class=val>RPK2</td></tr><tr class=odd><td class=val>At2g42580</td>\n",
       "<td class=val>TTL3</td></tr><tr class=even><td class=val>At1g69270</td>\n",
       "<td class=val>RPK1</td></tr><tr class=odd><td class=val>At5g02010</td>\n",
       "<td class=val>ROPGEF7</td></tr><tr class=even><td class=val>At1g66470</td>\n",
       "<td class=val>RHD6</td></tr><tr class=odd><td class=val>At5g37800</td>\n",
       "<td class=val>RSL1</td></tr></table><div class=\"tinfo\">Total: 17, Shown: 17</div></div>"
      ]
     },
     "metadata": {},
     "output_type": "display_data"
    }
   ],
   "source": [
    "PREFIX up: <http://purl.uniprot.org/core/>\n",
    "PREFIX rdfs:<http://www.w3.org/2000/01/rdf-schema#>\n",
    "PREFIX skos: <http://www.w3.org/2004/02/skos/core#>\n",
    "\n",
    "SELECT ?locus_code ?gene_name\n",
    "\n",
    "WHERE\n",
    "{\n",
    "    ?protein a up:Protein ;\n",
    "      \tup:organism ?taxon_id ;\n",
    "        up:encodedBy ?gene ;\n",
    "        up:annotation ?function_annot .\n",
    "    \n",
    "  \t?taxon_id a up:Taxon ;\n",
    "    \tup:scientificName \"Arabidopsis thaliana\" .\n",
    "    \n",
    "    ?gene a up:Gene ;\n",
    "        up:locusName ?locus_code ;\n",
    "        skos:prefLabel ?gene_name .\n",
    "    \n",
    "    ?function_annot a up:Function_Annotation ;\n",
    "                      rdfs:comment ?function_description .\n",
    "    FILTER REGEX (?function_description, \"pattern formation\", \"i\") .\n",
    "\n",
    "}"
   ]
  },
  {
   "cell_type": "markdown",
   "metadata": {},
   "source": [
    "#### From the MetaNetX metabolic networks for metagenomics database SPARQL Endpoint: https://rdf.metanetx.org/sparql"
   ]
  },
  {
   "cell_type": "markdown",
   "metadata": {},
   "source": [
    "Defining the endpoint:"
   ]
  },
  {
   "cell_type": "code",
   "execution_count": null,
   "metadata": {},
   "outputs": [],
   "source": [
    "%endpoint https://rdf.metanetx.org/sparql"
   ]
  },
  {
   "cell_type": "markdown",
   "metadata": {},
   "source": [
    "#### Q9: 4 POINTS:  what is the MetaNetX Reaction identifier (starts with “mnxr”) for the UniProt Protein uniprotkb:Q18A79"
   ]
  },
  {
   "cell_type": "markdown",
   "metadata": {},
   "source": [
    "(From https://www.metanetx.org/cgi-bin/mnxget/mnxref/MetaNetX_RDF_schema.pdf page 9):\n",
    "\n",
    "I know I could get an MNXR identifier directly from the mnx:REAC (from ?reac in my query, doing \"?reac rdfs:label ?reac_label .\"), however, those identifiers may be subject to change. \n",
    "\n",
    "That's why I do the additional steps: \"?reac mnx:mnxr ?mnxr .\", \"?mnxr rdfs:label ?mnxr_label .\", because that way I get stable identifiers."
   ]
  },
  {
   "cell_type": "code",
   "execution_count": 7,
   "metadata": {},
   "outputs": [
    {
     "data": {
      "text/html": [
       "<div class=\"krn-spql\"><table><tr class=hdr><th>mnxr_label</th></tr><tr class=odd><td class=val>MNXR165934</td></tr><tr class=even><td class=val>MNXR145046</td></tr></table><div class=\"tinfo\">Total: 2, Shown: 2</div></div>"
      ]
     },
     "metadata": {},
     "output_type": "display_data"
    }
   ],
   "source": [
    "PREFIX mnx: <https://rdf.metanetx.org/schema/>\n",
    "PREFIX uniprotkb: <http://purl.uniprot.org/uniprot/>\n",
    "\n",
    "SELECT DISTINCT ?mnxr_label\n",
    "\n",
    "WHERE{\n",
    "    ?pept a mnx:PEPT ;\n",
    "          mnx:peptXref uniprotkb:Q18A79 .\n",
    "    ?cata a mnx:CATA ;\n",
    "          mnx:pept ?pept .\n",
    "    ?gpr a mnx:GPR ;\n",
    "         mnx:cata ?cata ;\n",
    "         mnx:reac ?reac .\n",
    "    ?reac a mnx:REAC ;\n",
    "          mnx:mnxr ?mnxr .\n",
    "    ?mnxr rdfs:label ?mnxr_label .\n",
    "}"
   ]
  },
  {
   "cell_type": "markdown",
   "metadata": {},
   "source": [
    "For one protein, I get two identifiers:\n",
    "\n",
    "MNXR165934: \n",
    "\n",
    "1 \\[(1->4)-alpha-D-glucosyl\\](n) + 1 ADP-alpha-D-glucose \n",
    " <=> \n",
    "1 ADP + 1 \\[(1->4)-alpha-D-glucosyl\\](n+1)\n",
    "\n",
    "MNXR145046:\n",
    "\n",
    "1 ADP-alpha-D-glucose \n",
    " <=> \n",
    "1 ADP + 1 Glycogen\n",
    "\n",
    "One considers the glycogen as a whole, the other one considers the specific part that is involved in the reaction, \\[(1->4)-alpha-D-glucosyl\\](n)"
   ]
  },
  {
   "cell_type": "markdown",
   "metadata": {},
   "source": [
    "#### FEDERATED QUERY - UniProt and MetaNetX"
   ]
  },
  {
   "cell_type": "markdown",
   "metadata": {},
   "source": [
    "#### Q10: 5 POINTS:  What is the official Gene ID (UniProt calls this a “mnemonic”) and the MetaNetX Reaction identifier (mnxr…..) for the protein that has “Starch synthase” catalytic activity in Clostridium difficile (taxon 272563)."
   ]
  },
  {
   "cell_type": "markdown",
   "metadata": {},
   "source": [
    "Adapting one example from: https://edu.sib.swiss/pluginfile.php/8024/mod_resource/content/4/SWAT4HCLS%202019_MP.pdf, and query 22 from: https://sparql.uniprot.org/.well-known/sparql-examples/?offset=0"
   ]
  },
  {
   "cell_type": "code",
   "execution_count": 3,
   "metadata": {},
   "outputs": [
    {
     "data": {
      "text/html": [
       "<div class=\"krn-spql\"><div class=\"magic\">Endpoint set to: https://sparql.uniprot.org/sparql</div></div>"
      ],
      "text/plain": [
       "Endpoint set to: https://sparql.uniprot.org/sparql\n"
      ]
     },
     "metadata": {},
     "output_type": "display_data"
    }
   ],
   "source": [
    "# uniprot endpoint\n",
    "%endpoint https://sparql.uniprot.org/sparql"
   ]
  },
  {
   "cell_type": "code",
   "execution_count": null,
   "metadata": {},
   "outputs": [],
   "source": [
    "PREFIX mnx: <https://rdf.metanetx.org/schema/>\n",
    "PREFIX uniprotkb: <http://purl.uniprot.org/uniprot/>\n",
    "PREFIX up: <http://purl.uniprot.org/core/>\n",
    "PREFIX taxon: <http://purl.uniprot.org/taxonomy/>\n",
    "\n",
    "SELECT ?gene_id ?mnxr_label\n",
    "WHERE\n",
    "{\n",
    "\n",
    "    SERVICE <https://sparql.uniprot.org/sparql> {\n",
    "        \n",
    "        ?protein a up:Protein ;\n",
    "                   up:mnemonic ?gene_id ;\n",
    "                   up:organism taxon:272653 ;\n",
    "                   up:classifiedWith ?goTerm .\n",
    "        # The GO Term must be molecular function:\n",
    "        ?goTerm rdfs:subClassOf <http://purl.obolibrary.org/obo/GO_0003674> .\n",
    "        ?goTerm rdfs:label ?function_label .\n",
    "\n",
    "        FILTER REGEX (?function_label, \"starch synthase\", \"i\") .\n",
    "    }\n",
    "    \n",
    "    SERVICE <https://rdf.metanetx.org/sparql> {\n",
    "        ?pept a mnx:PEPT ;\n",
    "              mnx:peptXref ?protein .\n",
    "        ?cata a mnx:CATA ;\n",
    "              mnx:pept ?pept .\n",
    "        ?gpr a mnx:GPR ;\n",
    "             mnx:cata ?cata ;\n",
    "             mnx:reac ?reac .\n",
    "        ?reac a mnx:REAC ;\n",
    "              mnx:mnxr ?mnxr .\n",
    "        ?mnxr rdfs:label ?mnxr_label .\n",
    "    }\n",
    "        \n",
    "}"
   ]
  }
 ],
 "metadata": {
  "kernelspec": {
   "display_name": "SPARQL",
   "language": "sparql",
   "name": "sparql"
  },
  "language_info": {
   "codemirror_mode": {
    "name": "sparql"
   },
   "mimetype": "application/sparql-query",
   "name": "sparql",
   "pygments_lexer": "sparql-nb"
  }
 },
 "nbformat": 4,
 "nbformat_minor": 2
}
