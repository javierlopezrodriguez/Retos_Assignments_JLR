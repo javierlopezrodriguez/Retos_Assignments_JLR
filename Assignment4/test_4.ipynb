{
 "cells": [
  {
   "cell_type": "code",
   "execution_count": 85,
   "metadata": {},
   "outputs": [
    {
     "name": "stderr",
     "output_type": "stream",
     "text": [
      "Searching ... \n"
     ]
    },
    {
     "name": "stdout",
     "output_type": "stream",
     "text": [
      "false\n",
      "[:query_def=, :num, :identity, :query_len, :lap_at, :hit_id=, :len=, :definition=, :accession=, :hsps, :accession, :target_def, :target_len, :bit_score, :percent_identity, :overlap, :query_seq, :target_seq, :midline, :query_start, :query_end, :target_start, :target_end, :evalue, :len, :num=, :query_id, :query_id=, :query_def, :target_id, :definition, :hit_id, :query_len=, :each, :__binding__, :dclone, :pry, :pretty_print_inspect, :pretty_print, :pretty_print_instance_variables, :pretty_print_cycle, :to_json, :instance_variable_set, :instance_variable_defined?, :remove_instance_variable, :instance_of?, :kind_of?, :is_a?, :tap, :instance_variable_get, :instance_variables, :method, :public_method, :singleton_method, :define_singleton_method, :public_send, :pretty_inspect, :extend, :to_enum, :enum_for, :<=>, :===, :=~, :!~, :eql?, :respond_to?, :freeze, :inspect, :object_id, :send, :to_s, :display, :nil?, :hash, :class, :singleton_class, :clone, :dup, :itself, :yield_self, :taint, :tainted?, :untrust, :untaint, :trust, :untrusted?, :methods, :frozen?, :protected_methods, :singleton_methods, :public_methods, :private_methods, :!, :equal?, :instance_eval, :==, :instance_exec, :!=, :__send__, :__id__]\n",
      "19\n",
      "34\n",
      "59\n",
      "TGCTGCTGCGGTAAAA\n",
      "gnl|BL_ORD_ID|13663 : evalue 1.30005\t13663 at \n",
      "[19, 34, 22, 37]\n",
      "\n",
      "AT2G07669.1 | Symbols:  | unknown protein; Has 35333 Blast hits to 34131 proteins in 2444 species: Archae - 798; Bacteria - 22429; Metazoa - 974; Fungi - 991; Plants - 531; Viruses - 0; Other Eukaryotes - 9610 (source: NCBI BLink). | chr2:3283224-3283553 FORWARD LENGTH=330\n",
      "[:query_def=, :num, :identity, :query_len, :lap_at, :hit_id=, :len=, :definition=, :accession=, :hsps, :accession, :target_def, :target_len, :bit_score, :percent_identity, :overlap, :query_seq, :target_seq, :midline, :query_start, :query_end, :target_start, :target_end, :evalue, :len, :num=, :query_id, :query_id=, :query_def, :target_id, :definition, :hit_id, :query_len=, :each, :__binding__, :dclone, :pry, :pretty_print_inspect, :pretty_print, :pretty_print_instance_variables, :pretty_print_cycle, :to_json, :instance_variable_set, :instance_variable_defined?, :remove_instance_variable, :instance_of?, :kind_of?, :is_a?, :tap, :instance_variable_get, :instance_variables, :method, :public_method, :singleton_method, :define_singleton_method, :public_send, :pretty_inspect, :extend, :to_enum, :enum_for, :<=>, :===, :=~, :!~, :eql?, :respond_to?, :freeze, :inspect, :object_id, :send, :to_s, :display, :nil?, :hash, :class, :singleton_class, :clone, :dup, :itself, :yield_self, :taint, :tainted?, :untrust, :untaint, :trust, :untrusted?, :methods, :frozen?, :protected_methods, :singleton_methods, :public_methods, :private_methods, :!, :equal?, :instance_eval, :==, :instance_exec, :!=, :__send__, :__id__]\n",
      "39\n",
      "56\n",
      "59\n",
      "GACTCTGCATGATGTGAA\n",
      "gnl|BL_ORD_ID|28730 : evalue 4.53761\t28730 at \n",
      "[39, 56, 1134, 1151]\n",
      "\n",
      "AT5G22060.1 | Symbols: ATJ2, J2 | DNAJ homologue 2 | chr5:7303798-7305668 REVERSE LENGTH=1260\n",
      "[:query_def=, :num, :identity, :query_len, :lap_at, :hit_id=, :len=, :definition=, :accession=, :hsps, :accession, :target_def, :target_len, :bit_score, :percent_identity, :overlap, :query_seq, :target_seq, :midline, :query_start, :query_end, :target_start, :target_end, :evalue, :len, :num=, :query_id, :query_id=, :query_def, :target_id, :definition, :hit_id, :query_len=, :each, :__binding__, :dclone, :pry, :pretty_print_inspect, :pretty_print, :pretty_print_instance_variables, :pretty_print_cycle, :to_json, :instance_variable_set, :instance_variable_defined?, :remove_instance_variable, :instance_of?, :kind_of?, :is_a?, :tap, :instance_variable_get, :instance_variables, :method, :public_method, :singleton_method, :define_singleton_method, :public_send, :pretty_inspect, :extend, :to_enum, :enum_for, :<=>, :===, :=~, :!~, :eql?, :respond_to?, :freeze, :inspect, :object_id, :send, :to_s, :display, :nil?, :hash, :class, :singleton_class, :clone, :dup, :itself, :yield_self, :taint, :tainted?, :untrust, :untaint, :trust, :untrusted?, :methods, :frozen?, :protected_methods, :singleton_methods, :public_methods, :private_methods, :!, :equal?, :instance_eval, :==, :instance_exec, :!=, :__send__, :__id__]\n",
      "9\n",
      "29\n",
      "59\n",
      "GCGGCCAAAGATGCTGCTGCGG\n",
      "gnl|BL_ORD_ID|26183 : evalue 4.53761\t26183 at \n",
      "[9, 29, 46, 67]\n",
      "\n",
      "AT4G23600.3 | Symbols: CORI3, JR2 | Tyrosine transaminase family protein | chr4:12310657-12312733 FORWARD LENGTH=1143\n",
      "[:query_def=, :num, :identity, :query_len, :lap_at, :hit_id=, :len=, :definition=, :accession=, :hsps, :accession, :target_def, :target_len, :bit_score, :percent_identity, :overlap, :query_seq, :target_seq, :midline, :query_start, :query_end, :target_start, :target_end, :evalue, :len, :num=, :query_id, :query_id=, :query_def, :target_id, :definition, :hit_id, :query_len=, :each, :__binding__, :dclone, :pry, :pretty_print_inspect, :pretty_print, :pretty_print_instance_variables, :pretty_print_cycle, :to_json, :instance_variable_set, :instance_variable_defined?, :remove_instance_variable, :instance_of?, :kind_of?, :is_a?, :tap, :instance_variable_get, :instance_variables, :method, :public_method, :singleton_method, :define_singleton_method, :public_send, :pretty_inspect, :extend, :to_enum, :enum_for, :<=>, :===, :=~, :!~, :eql?, :respond_to?, :freeze, :inspect, :object_id, :send, :to_s, :display, :nil?, :hash, :class, :singleton_class, :clone, :dup, :itself, :yield_self, :taint, :tainted?, :untrust, :untaint, :trust, :untrusted?, :methods, :frozen?, :protected_methods, :singleton_methods, :public_methods, :private_methods, :!, :equal?, :instance_eval, :==, :instance_exec, :!=, :__send__, :__id__]\n",
      "9\n",
      "29\n",
      "59\n",
      "GCGGCCAAAGATGCTGCTGCGG\n",
      "gnl|BL_ORD_ID|25962 : evalue 4.53761\t25962 at \n",
      "[9, 29, 46, 67]\n",
      "\n",
      "AT4G23600.1 | Symbols: CORI3, JR2 | Tyrosine transaminase family protein | chr4:12310657-12312885 FORWARD LENGTH=1269\n",
      "[:query_def=, :num, :identity, :query_len, :lap_at, :hit_id=, :len=, :definition=, :accession=, :hsps, :accession, :target_def, :target_len, :bit_score, :percent_identity, :overlap, :query_seq, :target_seq, :midline, :query_start, :query_end, :target_start, :target_end, :evalue, :len, :num=, :query_id, :query_id=, :query_def, :target_id, :definition, :hit_id, :query_len=, :each, :__binding__, :dclone, :pry, :pretty_print_inspect, :pretty_print, :pretty_print_instance_variables, :pretty_print_cycle, :to_json, :instance_variable_set, :instance_variable_defined?, :remove_instance_variable, :instance_of?, :kind_of?, :is_a?, :tap, :instance_variable_get, :instance_variables, :method, :public_method, :singleton_method, :define_singleton_method, :public_send, :pretty_inspect, :extend, :to_enum, :enum_for, :<=>, :===, :=~, :!~, :eql?, :respond_to?, :freeze, :inspect, :object_id, :send, :to_s, :display, :nil?, :hash, :class, :singleton_class, :clone, :dup, :itself, :yield_self, :taint, :tainted?, :untrust, :untaint, :trust, :untrusted?, :methods, :frozen?, :protected_methods, :singleton_methods, :public_methods, :private_methods, :!, :equal?, :instance_eval, :==, :instance_exec, :!=, :__send__, :__id__]\n",
      "37\n",
      "56\n",
      "59\n",
      "GTGACAATCTGCATGATGCGAA\n",
      "gnl|BL_ORD_ID|22929 : evalue 4.53761\t22929 at \n",
      "[37, 56, 5315, 5294]\n",
      "\n",
      "AT4G03550.1 | Symbols: ATGSL05, GSL05, ATGSL5, PMR4, GSL5 | glucan synthase-like 5 | chr4:1573513-1579195 FORWARD LENGTH=5343\n"
     ]
    },
    {
     "data": {
      "text/plain": [
       "[#<Bio::Blast::Report::Hit:0x000055fadfba6668 @hsps=[#<Bio::Blast::Report::Hsp:0x000055fadfc4a060 @hsp={}, @num=1, @bit_score=30.1402, @score=32, @evalue=1.30005, @query_from=19, @query_to=34, @hit_from=22, @hit_to=37, @pattern_from=0, @pattern_to=0, @query_frame=1, @hit_frame=1, @identity=16, @positive=16, @gaps=0, @align_len=16, @density=0, @qseq=\"TGCTGCTGCGGTAAAA\", @hseq=\"TGCTGCTGCGGTAAAA\", @midline=\"||||||||||||||||\">], @query_id=\"Query_1\", @query_def=\"myseq\", @query_len=59, @num=1, @hit_id=\"gnl|BL_ORD_ID|13663\", @len=330, @definition=\"AT2G07669.1 | Symbols:  | unknown protein; Has 35333 Blast hits to 34131 proteins in 2444 species: Archae - 798; Bacteria - 22429; Metazoa - 974; Fungi - 991; Plants - 531; Viruses - 0; Other Eukaryotes - 9610 (source: NCBI BLink). | chr2:3283224-3283553 FORWARD LENGTH=330\", @accession=\"13663\">, #<Bio::Blast::Report::Hit:0x000055fadfbeb880 @hsps=[#<Bio::Blast::Report::Hsp:0x000055fadfb35788 @hsp={}, @num=1, @bit_score=28.3368, @score=30, @evalue=4.53761, @query_from=39, @query_to=56, @hit_from=1134, @hit_to=1151, @pattern_from=0, @pattern_to=0, @query_frame=1, @hit_frame=1, @identity=17, @positive=17, @gaps=0, @align_len=18, @density=0, @qseq=\"GACTCTGCATGATGCGAA\", @hseq=\"GACTCTGCATGATGTGAA\", @midline=\"|||||||||||||| |||\">], @query_id=\"Query_1\", @query_def=\"myseq\", @query_len=59, @num=2, @hit_id=\"gnl|BL_ORD_ID|28730\", @len=1260, @definition=\"AT5G22060.1 | Symbols: ATJ2, J2 | DNAJ homologue 2 | chr5:7303798-7305668 REVERSE LENGTH=1260\", @accession=\"28730\">, #<Bio::Blast::Report::Hit:0x000055fadfb142e0 @hsps=[#<Bio::Blast::Report::Hsp:0x000055fadf9bfca0 @hsp={}, @num=1, @bit_score=28.3368, @score=30, @evalue=4.53761, @query_from=9, @query_to=29, @hit_from=46, @hit_to=67, @pattern_from=0, @pattern_to=0, @query_frame=1, @hit_frame=1, @identity=20, @positive=20, @gaps=1, @align_len=22, @density=0, @qseq=\"GCGGCAAAA-ATGCTGCTGCGG\", @hseq=\"GCGGCCAAAGATGCTGCTGCGG\", @midline=\"||||| ||| ||||||||||||\">], @query_id=\"Query_1\", @query_def=\"myseq\", @query_len=59, @num=3, @hit_id=\"gnl|BL_ORD_ID|26183\", @len=1143, @definition=\"AT4G23600.3 | Symbols: CORI3, JR2 | Tyrosine transaminase family protein | chr4:12310657-12312733 FORWARD LENGTH=1143\", @accession=\"26183\">, #<Bio::Blast::Report::Hit:0x000055fadf6675d0 @hsps=[#<Bio::Blast::Report::Hsp:0x000055fadf4e5ab8 @hsp={}, @num=1, @bit_score=28.3368, @score=30, @evalue=4.53761, @query_from=9, @query_to=29, @hit_from=46, @hit_to=67, @pattern_from=0, @pattern_to=0, @query_frame=1, @hit_frame=1, @identity=20, @positive=20, @gaps=1, @align_len=22, @density=0, @qseq=\"GCGGCAAAA-ATGCTGCTGCGG\", @hseq=\"GCGGCCAAAGATGCTGCTGCGG\", @midline=\"||||| ||| ||||||||||||\">], @query_id=\"Query_1\", @query_def=\"myseq\", @query_len=59, @num=4, @hit_id=\"gnl|BL_ORD_ID|25962\", @len=1269, @definition=\"AT4G23600.1 | Symbols: CORI3, JR2 | Tyrosine transaminase family protein | chr4:12310657-12312885 FORWARD LENGTH=1269\", @accession=\"25962\">, #<Bio::Blast::Report::Hit:0x000055fadf92f3d0 @hsps=[#<Bio::Blast::Report::Hsp:0x000055fadf8fd5b0 @hsp={}, @num=1, @bit_score=28.3368, @score=30, @evalue=4.53761, @query_from=37, @query_to=56, @hit_from=5315, @hit_to=5294, @pattern_from=0, @pattern_to=0, @query_frame=1, @hit_frame=-1, @identity=20, @positive=20, @gaps=2, @align_len=22, @density=0, @qseq=\"GTGAC--TCTGCATGATGCGAA\", @hseq=\"GTGACAATCTGCATGATGCGAA\", @midline=\"|||||  |||||||||||||||\">], @query_id=\"Query_1\", @query_def=\"myseq\", @query_len=59, @num=5, @hit_id=\"gnl|BL_ORD_ID|22929\", @len=5343, @definition=\"AT4G03550.1 | Symbols: ATGSL05, GSL05, ATGSL5, PMR4, GSL5 | glucan synthase-like 5 | chr4:1573513-1579195 FORWARD LENGTH=5343\", @accession=\"22929\">]"
      ]
     },
     "execution_count": 85,
     "metadata": {},
     "output_type": "execute_result"
    }
   ],
   "source": [
    "require 'bio'\n",
    "require 'stringio'\n",
    "\n",
    "# blast is installed globally, so you don't need to include the full path to blastn\n",
    "factory = Bio::Blast.local('blastn', '/home/osboxes/BioinformaticsCourseGit/Retos_Assignments_JLR/Assignment4/blast_databases/arabidopsis_thaliana')   # wherever your database is....a BLAST \"factory\" \n",
    "#factory = Bio::Blast.local('tblastx', '/home/osboxes/Databases/EBOLA') # \n",
    "\n",
    "$stderr.puts \"Searching ... \"  # output to \"standard error\", this is to output comments to yourself, or error messages\n",
    "                               # that are not intended to be part of the output of the software (pink background)\n",
    "\n",
    "# executes homology search. Returns Bio::Blast::Report object.\n",
    "report = factory.query(\">myseq\\nATAAAAACGCGGCAAAAATGCTGCTGCGGTAAAAATGTGACTCTGCATGATGCGAAAAA\") # this is a Bio::Blast::Report\n",
    "\n",
    "puts report.hits.empty?\n",
    "#puts factory.output   # to see the blast report, verbatim\n",
    "#puts report.hits\n",
    "# Iterates over each hit\n",
    "report.each do |hit|\n",
    "  puts hit.public_methods\n",
    "  puts hit.query_start\n",
    "  puts hit.query_end\n",
    "  puts hit.query_len\n",
    "  puts hit.target_seq\n",
    "  puts \"#{hit.hit_id} : evalue #{hit.evalue}\\t#{hit.target_id} at \"\n",
    "  puts \"#{hit.lap_at}\"   # this tells you start and end of both the query and the hit sequences\n",
    "  puts\n",
    "  puts hit.definition\n",
    "  hit.each do |hsp|\n",
    "    #puts hsp.qseq  # this is the gapped Alignment as text of the query\n",
    "    #puts hsp.hseq  # this is the gapped Alignment as text of the hit\n",
    "  end\n",
    "end"
   ]
  },
  {
   "cell_type": "code",
   "execution_count": 10,
   "metadata": {},
   "outputs": [
    {
     "name": "stdout",
     "output_type": "stream",
     "text": [
      "/home/osboxes/BioinformaticsCourseGit/Retos_Assignments_JLR/Assignment4\n"
     ]
    }
   ],
   "source": [
    "puts Dir.pwd"
   ]
  },
  {
   "cell_type": "code",
   "execution_count": 14,
   "metadata": {},
   "outputs": [
    {
     "data": {
      "text/plain": [
       "true"
      ]
     },
     "execution_count": 14,
     "metadata": {},
     "output_type": "execute_result"
    }
   ],
   "source": [
    "\"\".empty?"
   ]
  },
  {
   "cell_type": "code",
   "execution_count": 18,
   "metadata": {},
   "outputs": [
    {
     "data": {
      "text/plain": [
       "#<StringIO:0x000055fadfc37730>"
      ]
     },
     "execution_count": 18,
     "metadata": {},
     "output_type": "execute_result"
    }
   ],
   "source": [
    "require 'bio'\n",
    "require 'stringio'\n",
    "find = StringIO.new(\">myseq\\nAGCCCCGTTTTTTGCCACTGGTTATTTAATTAAGCCAATAACGTCAAGTGCTAGATCTAGTGAGTGGTAT\")"
   ]
  },
  {
   "cell_type": "code",
   "execution_count": 88,
   "metadata": {},
   "outputs": [
    {
     "name": "stdout",
     "output_type": "stream",
     "text": [
      "[:dbclass, :dbclass=, :raw=, :skip_leader_mode, :to_io, :next_entry, :autodetect, :rewind, :pos, :entry_raw, :entry_pos_flag, :entry_pos_flag=, :entry_start_pos, :entry_ended_pos, :close, :entry, :eof?, :pos=, :skip_leader_mode=, :raw, :io, :each_entry, :gets, :each, :path, :to_h, :include?, :to_set, :max, :min, :find, :to_a, :entries, :sort, :sort_by, :grep, :grep_v, :count, :detect, :find_index, :find_all, :select, :reject, :collect, :map, :flat_map, :collect_concat, :inject, :reduce, :partition, :group_by, :first, :all?, :any?, :one?, :none?, :minmax, :min_by, :max_by, :minmax_by, :member?, :each_with_index, :reverse_each, :each_slice, :each_cons, :each_with_object, :zip, :take, :take_while, :drop, :drop_while, :cycle, :chunk, :slice_before, :slice_after, :slice_when, :chunk_while, :sum, :uniq, :lazy, :__binding__, :dclone, :pry, :pretty_print_inspect, :pretty_print, :pretty_print_instance_variables, :pretty_print_cycle, :to_json, :instance_variable_set, :instance_variable_defined?, :remove_instance_variable, :instance_of?, :kind_of?, :is_a?, :tap, :instance_variable_get, :instance_variables, :method, :public_method, :singleton_method, :define_singleton_method, :public_send, :pretty_inspect, :extend, :to_enum, :enum_for, :<=>, :===, :=~, :!~, :eql?, :respond_to?, :freeze, :inspect, :object_id, :send, :to_s, :display, :nil?, :hash, :class, :singleton_class, :clone, :dup, :itself, :yield_self, :taint, :tainted?, :untrust, :untaint, :trust, :untrusted?, :methods, :frozen?, :protected_methods, :singleton_methods, :public_methods, :private_methods, :!, :equal?, :instance_eval, :==, :instance_exec, :!=, :__send__, :__id__]\n"
     ]
    }
   ],
   "source": [
    "require 'bio'\n",
    "require 'stringio'\n",
    "\n",
    "#puts Dir.pwd\n",
    "\n",
    "\n",
    "factory = Bio::Fasta.local('/home/osboxes/Anaconda/bin/fasta36', '../Databases/EBOLA.fa') \n",
    "\n",
    "# you haven't seen this before!  The second argument must be a stream (respond to \".read\", \n",
    "# so make the string look like an opened file\n",
    "find = StringIO.new(\">myseq\\nAGTGGTATAAAAAAATCAT\")\n",
    "\n",
    "ff = Bio::FlatFile.auto(find)   # 'find' is a streamable object\n",
    "puts ff.public_methods"
   ]
  },
  {
   "cell_type": "code",
   "execution_count": 91,
   "metadata": {},
   "outputs": [
    {
     "name": "stdout",
     "output_type": "stream",
     "text": [
      ">myseq\n",
      "AGTGGTATAAAAAAATCAT\n",
      "\n",
      "Bio::Sequence::NA\n"
     ]
    },
    {
     "data": {
      "text/plain": [
       "0"
      ]
     },
     "execution_count": 91,
     "metadata": {},
     "output_type": "execute_result"
    }
   ],
   "source": [
    "ff.rewind\n",
    "puts ff.next_entry\n",
    "ff.rewind\n",
    "puts ff.next_entry.to_seq.guess.to_s\n",
    "ff.rewind"
   ]
  },
  {
   "cell_type": "code",
   "execution_count": 92,
   "metadata": {},
   "outputs": [
    {
     "name": "stdout",
     "output_type": "stream",
     "text": [
      ">myseq\n",
      "AGTGGTATAAAAAAATCAT\n",
      "\n",
      "Bio::FastaFormat\n",
      "myseq\n"
     ]
    }
   ],
   "source": [
    "ff.each_entry do |entry|\n",
    "  puts entry\n",
    "  puts entry.class\n",
    "  puts entry.definition\n",
    "end"
   ]
  },
  {
   "cell_type": "code",
   "execution_count": null,
   "metadata": {},
   "outputs": [
    {
     "ename": "NameError",
     "evalue": "undefined local variable or method `bla' for main:Object",
     "output_type": "error",
     "traceback": [
      "\u001b[31mNameError\u001b[0m: undefined local variable or method `bla' for main:Object",
      "(pry):534:in `<main>'",
      "/var/lib/gems/2.5.0/gems/pry-0.13.1/lib/pry/pry_instance.rb:290:in `eval'",
      "/var/lib/gems/2.5.0/gems/pry-0.13.1/lib/pry/pry_instance.rb:290:in `evaluate_ruby'",
      "/var/lib/gems/2.5.0/gems/pry-0.13.1/lib/pry/pry_instance.rb:659:in `handle_line'",
      "/var/lib/gems/2.5.0/gems/pry-0.13.1/lib/pry/pry_instance.rb:261:in `block (2 levels) in eval'",
      "/var/lib/gems/2.5.0/gems/pry-0.13.1/lib/pry/pry_instance.rb:260:in `catch'",
      "/var/lib/gems/2.5.0/gems/pry-0.13.1/lib/pry/pry_instance.rb:260:in `block in eval'",
      "/var/lib/gems/2.5.0/gems/pry-0.13.1/lib/pry/pry_instance.rb:259:in `catch'",
      "/var/lib/gems/2.5.0/gems/pry-0.13.1/lib/pry/pry_instance.rb:259:in `eval'",
      "/var/lib/gems/2.5.0/gems/iruby-0.4.0/lib/iruby/backend.rb:66:in `eval'",
      "/var/lib/gems/2.5.0/gems/iruby-0.4.0/lib/iruby/backend.rb:12:in `eval'",
      "/var/lib/gems/2.5.0/gems/iruby-0.4.0/lib/iruby/kernel.rb:90:in `execute_request'",
      "/var/lib/gems/2.5.0/gems/iruby-0.4.0/lib/iruby/kernel.rb:49:in `dispatch'",
      "/var/lib/gems/2.5.0/gems/iruby-0.4.0/lib/iruby/kernel.rb:38:in `run'",
      "/var/lib/gems/2.5.0/gems/iruby-0.4.0/lib/iruby/command.rb:110:in `run_kernel'",
      "/var/lib/gems/2.5.0/gems/iruby-0.4.0/lib/iruby/command.rb:40:in `run'",
      "/var/lib/gems/2.5.0/gems/iruby-0.4.0/bin/iruby:5:in `<main>'"
     ]
    }
   ],
   "source": [
    "if bla\n",
    "puts \"bla\"\n",
    "end"
   ]
  },
  {
   "cell_type": "code",
   "execution_count": 93,
   "metadata": {},
   "outputs": [
    {
     "data": {
      "text/plain": [
       "true"
      ]
     },
     "execution_count": 93,
     "metadata": {},
     "output_type": "execute_result"
    }
   ],
   "source": [
    "{e: 3}.key?(:e)"
   ]
  },
  {
   "cell_type": "code",
   "execution_count": 94,
   "metadata": {},
   "outputs": [
    {
     "data": {
      "text/plain": [
       "false"
      ]
     },
     "execution_count": 94,
     "metadata": {},
     "output_type": "execute_result"
    }
   ],
   "source": [
    "{e: 3}.value?(:e)"
   ]
  },
  {
   "cell_type": "code",
   "execution_count": 95,
   "metadata": {},
   "outputs": [
    {
     "data": {
      "text/plain": [
       "true"
      ]
     },
     "execution_count": 95,
     "metadata": {},
     "output_type": "execute_result"
    }
   ],
   "source": [
    "{e: 3}.value?(3)"
   ]
  },
  {
   "cell_type": "code",
   "execution_count": null,
   "metadata": {},
   "outputs": [],
   "source": []
  }
 ],
 "metadata": {
  "kernelspec": {
   "display_name": "Ruby 2.5.1",
   "language": "ruby",
   "name": "ruby"
  },
  "language_info": {
   "file_extension": ".rb",
   "mimetype": "application/x-ruby",
   "name": "ruby",
   "version": "2.5.1"
  }
 },
 "nbformat": 4,
 "nbformat_minor": 2
}
