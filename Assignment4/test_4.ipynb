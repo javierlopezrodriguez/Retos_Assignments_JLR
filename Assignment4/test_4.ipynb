{
 "cells": [
  {
   "cell_type": "code",
   "execution_count": 13,
   "metadata": {},
   "outputs": [
    {
     "name": "stderr",
     "output_type": "stream",
     "text": [
      "Searching ... \n"
     ]
    },
    {
     "name": "stdout",
     "output_type": "stream",
     "text": [
      "gnl|BL_ORD_ID|33277 : evalue 0.0\t33277 at [1, 351, 76, 426]\n",
      "\n",
      "AT5G08535.1 | Symbols:  | D111/G-patch domain-containing protein | chr5:2762455-2763320 FORWARD LENGTH=426\n",
      "gnl|BL_ORD_ID|32717 : evalue 0.0\t32717 at [1, 351, 1, 351]\n",
      "\n",
      "AT5G08535.2 | Symbols:  | D111/G-patch domain-containing protein | chr5:2762722-2763320 FORWARD LENGTH=351\n",
      "gnl|BL_ORD_ID|14917 : evalue 2.56509e-109\t14917 at [1, 351, 190, 543]\n",
      "\n",
      "AT3G52350.1 | Symbols:  | D111/G-patch domain-containing protein | chr3:19409606-19410148 REVERSE LENGTH=543\n",
      "gnl|BL_ORD_ID|32314 : evalue 0.275331\t32314 at [254, 277, 293, 316]\n",
      "\n",
      "AT5G18460.1 | Symbols:  | Protein of Unknown Function (DUF239) | chr5:6123205-6126505 FORWARD LENGTH=1293\n",
      "gnl|BL_ORD_ID|2404 : evalue 0.275331\t2404 at [10, 31, 496, 517]\n",
      "\n",
      "AT1G30050.1 | Symbols:  | unknown protein; BEST Arabidopsis thaliana protein match is: unknown protein (TAIR:AT5G01970.1); Has 246 Blast hits to 244 proteins in 61 species: Archae - 0; Bacteria - 8; Metazoa - 78; Fungi - 10; Plants - 117; Viruses - 0; Other Eukaryotes - 33 (source: NCBI BLink). | chr1:10543177-10544418 FORWARD LENGTH=1170\n",
      "gnl|BL_ORD_ID|21285 : evalue 0.961\t21285 at [252, 277, 230, 205]\n",
      "\n",
      "AT3G49725.1 | Symbols:  | GTP-binding protein, HflX | chr3:18442448-18445397 REVERSE LENGTH=1863\n",
      "gnl|BL_ORD_ID|15531 : evalue 0.961\t15531 at [235, 260, 1770, 1795]\n",
      "\n",
      "AT3G24630.1 | Symbols:  | unknown protein; Has 5348 Blast hits to 3182 proteins in 353 species: Archae - 0; Bacteria - 481; Metazoa - 1959; Fungi - 405; Plants - 180; Viruses - 10; Other Eukaryotes - 2313 (source: NCBI BLink). | chr3:8988398-8990737 FORWARD LENGTH=2175\n",
      "gnl|BL_ORD_ID|3768 : evalue 0.961\t3768 at [246, 278, 74, 42]\n",
      "\n",
      "AT1G34000.1 | Symbols: OHP2 | one-helix protein 2 | chr1:12358151-12358902 REVERSE LENGTH=519\n",
      "gnl|BL_ORD_ID|35164 : evalue 3.35422\t35164 at [272, 291, 1059, 1040]\n",
      "\n",
      "AT5G35160.2 | Symbols:  | Endomembrane protein 70 protein family | chr5:13414945-13416921 FORWARD LENGTH=1977\n",
      "gnl|BL_ORD_ID|33183 : evalue 3.35422\t33183 at [255, 282, 70, 42]\n",
      "\n",
      "AT5G58540.2 | Symbols:  | Protein kinase superfamily protein | chr5:23663400-23665182 FORWARD LENGTH=1446\n",
      "gnl|BL_ORD_ID|31852 : evalue 3.35422\t31852 at [272, 291, 975, 956]\n",
      "\n",
      "AT5G35160.1 | Symbols:  | Endomembrane protein 70 protein family | chr5:13414945-13416921 FORWARD LENGTH=1893\n",
      "gnl|BL_ORD_ID|31033 : evalue 3.35422\t31033 at [217, 243, 328, 354]\n",
      "\n",
      "AT5G51840.1 | Symbols:  | unknown protein; Has 30201 Blast hits to 17322 proteins in 780 species: Archae - 12; Bacteria - 1396; Metazoa - 17338; Fungi - 3422; Plants - 5037; Viruses - 0; Other Eukaryotes - 2996 (source: NCBI BLink). | chr5:21072143-21074131 FORWARD LENGTH=738\n",
      "gnl|BL_ORD_ID|30720 : evalue 3.35422\t30720 at [259, 280, 4229, 4250]\n",
      "\n",
      "AT5G23110.1 | Symbols:  | Zinc finger, C3HC4 type (RING finger) family protein | chr5:7758307-7775509 FORWARD LENGTH=14121\n",
      "gnl|BL_ORD_ID|27568 : evalue 3.35422\t27568 at [267, 283, 2426, 2410]\n",
      "\n",
      "AT5G03280.1 | Symbols: EIN2, PIR2, CKR1, ERA3, ORE3, ORE2, ATEIN2 | NRAMP metal ion transporter family protein | chr5:788589-793066 FORWARD LENGTH=3885\n",
      "gnl|BL_ORD_ID|27354 : evalue 3.35422\t27354 at [255, 282, 70, 42]\n",
      "\n",
      "AT5G58540.1 | Symbols:  | Protein kinase superfamily protein | chr5:23663400-23665182 FORWARD LENGTH=1455\n",
      "gnl|BL_ORD_ID|23952 : evalue 3.35422\t23952 at [244, 260, 49, 65]\n",
      "\n",
      "AT4G19580.1 | Symbols:  | DNAJ heat shock N-terminal domain-containing protein | chr4:10668367-10669452 FORWARD LENGTH=939\n",
      "gnl|BL_ORD_ID|22133 : evalue 3.35422\t22133 at [232, 251, 1210, 1191]\n",
      "\n",
      "AT4G22760.1 | Symbols:  | Tetratricopeptide repeat (TPR)-like superfamily protein | chr4:11960553-11962289 FORWARD LENGTH=1737\n",
      "gnl|BL_ORD_ID|18084 : evalue 3.35422\t18084 at [172, 196, 570, 594]\n",
      "\n",
      "AT3G22400.1 | Symbols: LOX5 | PLAT/LH2 domain-containing lipoxygenase family protein | chr3:7927011-7931167 FORWARD LENGTH=2661\n",
      "gnl|BL_ORD_ID|3922 : evalue 3.35422\t3922 at [255, 279, 25, 49]\n",
      "\n",
      "AT1G64180.1 | Symbols:  | intracellular protein transport protein USO1-related | chr1:23821640-23824193 FORWARD LENGTH=1782\n",
      "gnl|BL_ORD_ID|2756 : evalue 3.35422\t2756 at [283, 312, 583, 612]\n",
      "\n",
      "AT1G04890.1 | Symbols:  | Protein of unknown function, DUF593 | chr1:1381116-1382546 REVERSE LENGTH=1236\n"
     ]
    },
    {
     "data": {
      "text/plain": [
       "[#<Bio::Blast::Report::Hit:0x000055fae05f3b98 @hsps=[#<Bio::Blast::Report::Hsp:0x000055fae061d100 @hsp={}, @num=1, @bit_score=634.269, @score=702, @evalue=0.0, @query_from=1, @query_to=351, @hit_from=76, @hit_to=426, @pattern_from=0, @pattern_to=0, @query_frame=1, @hit_frame=1, @identity=351, @positive=351, @gaps=0, @align_len=351, @density=0, @qseq=\"ATGGGTGAGTCCTCTGGATCAAGCAGTTCATTGGCTGCTATAAATTCGTCCAACATTGGGTTTCAGCTCCTAAAGAAGCATGGCTGGAAGGAAGGCACTGGTCTTGGAATCGCTGAACAGGGTATATTGGTGCCTCTACAAGCAGAGCCAAAACATAACAAACGAGGAGTGGGAGCTAAACAACCAGCTAAGAGAAAAGTGGCTCAGCCTCAGGCTAAGGATGAAGAAGTCTCAAAGCAGAGTAAGAAACTTTCGAAGAAAATGCGGAAGATGATGGAGCACGAAAAACATTTACAGGAAAAAGAATTTGAACGAGCCTTCTTTAGGGAGTTCTGGCCCGATAATGTATAA\", @hseq=\"ATGGGTGAGTCCTCTGGATCAAGCAGTTCATTGGCTGCTATAAATTCGTCCAACATTGGGTTTCAGCTCCTAAAGAAGCATGGCTGGAAGGAAGGCACTGGTCTTGGAATCGCTGAACAGGGTATATTGGTGCCTCTACAAGCAGAGCCAAAACATAACAAACGAGGAGTGGGAGCTAAACAACCAGCTAAGAGAAAAGTGGCTCAGCCTCAGGCTAAGGATGAAGAAGTCTCAAAGCAGAGTAAGAAACTTTCGAAGAAAATGCGGAAGATGATGGAGCACGAAAAACATTTACAGGAAAAAGAATTTGAACGAGCCTTCTTTAGGGAGTTCTGGCCCGATAATGTATAA\", @midline=\"|||||||||||||||||||||||||||||||||||||||||||||||||||||||||||||||||||||||||||||||||||||||||||||||||||||||||||||||||||||||||||||||||||||||||||||||||||||||||||||||||||||||||||||||||||||||||||||||||||||||||||||||||||||||||||||||||||||||||||||||||||||||||||||||||||||||||||||||||||||||||||||||||||||||||||||||||||||||||||||||||||||||||||||||||||||||||||||||\">], @query_id=\"Query_1\", @query_def=\"myseq\", @query_len=351, @num=1, @hit_id=\"gnl|BL_ORD_ID|33277\", @len=426, @definition=\"AT5G08535.1 | Symbols:  | D111/G-patch domain-containing protein | chr5:2762455-2763320 FORWARD LENGTH=426\", @accession=\"33277\">, #<Bio::Blast::Report::Hit:0x000055fae05fc0e0 @hsps=[#<Bio::Blast::Report::Hsp:0x000055fae05dc678 @hsp={}, @num=1, @bit_score=634.269, @score=702, @evalue=0.0, @query_from=1, @query_to=351, @hit_from=1, @hit_to=351, @pattern_from=0, @pattern_to=0, @query_frame=1, @hit_frame=1, @identity=351, @positive=351, @gaps=0, @align_len=351, @density=0, @qseq=\"ATGGGTGAGTCCTCTGGATCAAGCAGTTCATTGGCTGCTATAAATTCGTCCAACATTGGGTTTCAGCTCCTAAAGAAGCATGGCTGGAAGGAAGGCACTGGTCTTGGAATCGCTGAACAGGGTATATTGGTGCCTCTACAAGCAGAGCCAAAACATAACAAACGAGGAGTGGGAGCTAAACAACCAGCTAAGAGAAAAGTGGCTCAGCCTCAGGCTAAGGATGAAGAAGTCTCAAAGCAGAGTAAGAAACTTTCGAAGAAAATGCGGAAGATGATGGAGCACGAAAAACATTTACAGGAAAAAGAATTTGAACGAGCCTTCTTTAGGGAGTTCTGGCCCGATAATGTATAA\", @hseq=\"ATGGGTGAGTCCTCTGGATCAAGCAGTTCATTGGCTGCTATAAATTCGTCCAACATTGGGTTTCAGCTCCTAAAGAAGCATGGCTGGAAGGAAGGCACTGGTCTTGGAATCGCTGAACAGGGTATATTGGTGCCTCTACAAGCAGAGCCAAAACATAACAAACGAGGAGTGGGAGCTAAACAACCAGCTAAGAGAAAAGTGGCTCAGCCTCAGGCTAAGGATGAAGAAGTCTCAAAGCAGAGTAAGAAACTTTCGAAGAAAATGCGGAAGATGATGGAGCACGAAAAACATTTACAGGAAAAAGAATTTGAACGAGCCTTCTTTAGGGAGTTCTGGCCCGATAATGTATAA\", @midline=\"|||||||||||||||||||||||||||||||||||||||||||||||||||||||||||||||||||||||||||||||||||||||||||||||||||||||||||||||||||||||||||||||||||||||||||||||||||||||||||||||||||||||||||||||||||||||||||||||||||||||||||||||||||||||||||||||||||||||||||||||||||||||||||||||||||||||||||||||||||||||||||||||||||||||||||||||||||||||||||||||||||||||||||||||||||||||||||||||\">], @query_id=\"Query_1\", @query_def=\"myseq\", @query_len=351, @num=2, @hit_id=\"gnl|BL_ORD_ID|32717\", @len=351, @definition=\"AT5G08535.2 | Symbols:  | D111/G-patch domain-containing protein | chr5:2762722-2763320 FORWARD LENGTH=351\", @accession=\"32717\">, #<Bio::Blast::Report::Hit:0x000055fae05b3cc8 @hsps=[#<Bio::Blast::Report::Hsp:0x000055fae05a4890 @hsp={}, @num=1, @bit_score=394.421, @score=436, @evalue=2.56509e-109, @query_from=1, @query_to=351, @hit_from=190, @hit_to=543, @pattern_from=0, @pattern_to=0, @query_frame=1, @hit_frame=1, @identity=301, @positive=301, @gaps=3, @align_len=354, @density=0, @qseq=\"ATGGGTGAGTCCTCTGGATCAAGCAGTTCATTGGCTGCTATAAATTCGTCCAACATTGGGTTTCAGCTCCTAAAGAAGCATGGCTGGAAGGAAGGCACTGGTCTTGGAATCGCTGAACAGGGTATATTGGTGCCTCTACAAGCAGAGCCAAAACATAACAAACGAGGAGTGGGAGCTAAACAACCAGCTAAGAGAAAAGTGGCTCAGCCTCAGGCTA-AG--GATGAAGAAGTCTCAAAGCAGAGTAAGAAACTTTCGAAGAAAATGCGGAAGATGATGGAGCACGAAAAACATTTACAGGAAAAAGAATTTGAACGAGCCTTCTTTAGGGAGTTCTGGCCCGATAATGTATAA\", @hseq=\"ATTGGGGATTCTTCTGAATCAAGCAATCCATCGACTGCTATCAGTTCTTCTAACATTGGTTTTCAGCTCCTAAAGAAGCATGGCTGGAAGGAAGGAACTGGTCTAGGAATCACTGAACAAGGTATATTGGTGCCTCTACAAGCAGAACCAAAACATAACAAACAAGGACTAGGAGCTGAAAAACCAGCCAAGAGAAAACCGGCACAGCCTCAGGATACAGCTTTTGAAGAAGTATCAAAGAAGAGCAAGAAACTTTCTAAGAAATTAGTGAAGATGATCGAGCACGAAAAACGATTGGCGGAAAACGAATTTGAACGAGCCTTCCGCAGGGAGTTCTGGCCTGATAATGTATAA\", @midline=\"|| || || || |||| |||||||| | ||| | ||||||| | ||| || |||||||| ||||||||||||||||||||||||||||||||||| |||||||| |||||| ||||||| |||||||||||||||||||||||||| |||||||||||||||| |||| | |||||| || ||||||| |||||||||  ||| |||||||||| || ||    ||||||||| |||||| |||| ||||||||||| |||||| |   ||||||||| |||||||||||||  ||   |||||| ||||||||||||||||||   |||||||||||||| ||||||||||||\">], @query_id=\"Query_1\", @query_def=\"myseq\", @query_len=351, @num=3, @hit_id=\"gnl|BL_ORD_ID|14917\", @len=543, @definition=\"AT3G52350.1 | Symbols:  | D111/G-patch domain-containing protein | chr3:19409606-19410148 REVERSE LENGTH=543\", @accession=\"14917\">, #<Bio::Blast::Report::Hit:0x000055fae057a478 @hsps=[#<Bio::Blast::Report::Hsp:0x000055fae0553760 @hsp={}, @num=1, @bit_score=35.5503, @score=38, @evalue=0.275331, @query_from=254, @query_to=277, @hit_from=293, @hit_to=316, @pattern_from=0, @pattern_to=0, @query_frame=1, @hit_frame=1, @identity=22, @positive=22, @gaps=0, @align_len=24, @density=0, @qseq=\"CGAAGAAAATGCGGAAGATGATGG\", @hseq=\"CGAAGAAAATGCCGAAGATGAAGG\", @midline=\"|||||||||||| |||||||| ||\">], @query_id=\"Query_1\", @query_def=\"myseq\", @query_len=351, @num=4, @hit_id=\"gnl|BL_ORD_ID|32314\", @len=1293, @definition=\"AT5G18460.1 | Symbols:  | Protein of Unknown Function (DUF239) | chr5:6123205-6126505 FORWARD LENGTH=1293\", @accession=\"32314\">, #<Bio::Blast::Report::Hit:0x000055fae055ddc8 @hsps=[#<Bio::Blast::Report::Hsp:0x000055fae052f838 @hsp={}, @num=1, @bit_score=35.5503, @score=38, @evalue=0.275331, @query_from=10, @query_to=31, @hit_from=496, @hit_to=517, @pattern_from=0, @pattern_to=0, @query_frame=1, @hit_frame=1, @identity=21, @positive=21, @gaps=0, @align_len=22, @density=0, @qseq=\"TCCTCTGGATCAAGCAGTTCAT\", @hseq=\"TCCTCTGGATCAAGCAGTCCAT\", @midline=\"|||||||||||||||||| |||\">], @query_id=\"Query_1\", @query_def=\"myseq\", @query_len=351, @num=5, @hit_id=\"gnl|BL_ORD_ID|2404\", @len=1170, @definition=\"AT1G30050.1 | Symbols:  | unknown protein; BEST Arabidopsis thaliana protein match is: unknown protein (TAIR:AT5G01970.1); Has 246 Blast hits to 244 proteins in 61 species: Archae - 0; Bacteria - 8; Metazoa - 78; Fungi - 10; Plants - 117; Viruses - 0; Other Eukaryotes - 33 (source: NCBI BLink). | chr1:10543177-10544418 FORWARD LENGTH=1170\", @accession=\"2404\">, #<Bio::Blast::Report::Hit:0x000055fae0522b38 @hsps=[#<Bio::Blast::Report::Hsp:0x000055fae04dfc98 @hsp={}, @num=1, @bit_score=33.7469, @score=36, @evalue=0.961, @query_from=252, @query_to=277, @hit_from=230, @hit_to=205, @pattern_from=0, @pattern_to=0, @query_frame=1, @hit_frame=-1, @identity=23, @positive=23, @gaps=0, @align_len=26, @density=0, @qseq=\"TTCGAAGAAAATGCGGAAGATGATGG\", @hseq=\"TTCGAAGAAAATGGAGACGATGATGG\", @midline=\"|||||||||||||  || ||||||||\">], @query_id=\"Query_1\", @query_def=\"myseq\", @query_len=351, @num=6, @hit_id=\"gnl|BL_ORD_ID|21285\", @len=1863, @definition=\"AT3G49725.1 | Symbols:  | GTP-binding protein, HflX | chr3:18442448-18445397 REVERSE LENGTH=1863\", @accession=\"21285\">, #<Bio::Blast::Report::Hit:0x000055fae04c6ec8 @hsps=[#<Bio::Blast::Report::Hsp:0x000055fae04f7d20 @hsp={}, @num=1, @bit_score=33.7469, @score=36, @evalue=0.961, @query_from=235, @query_to=260, @hit_from=1770, @hit_to=1795, @pattern_from=0, @pattern_to=0, @query_frame=1, @hit_frame=1, @identity=23, @positive=23, @gaps=0, @align_len=26, @density=0, @qseq=\"AAGCAGAGTAAGAAACTTTCGAAGAA\", @hseq=\"AAGCAGAGAATCAAACTTTCGAAGAA\", @midline=\"|||||||| |  ||||||||||||||\">], @query_id=\"Query_1\", @query_def=\"myseq\", @query_len=351, @num=7, @hit_id=\"gnl|BL_ORD_ID|15531\", @len=2175, @definition=\"AT3G24630.1 | Symbols:  | unknown protein; Has 5348 Blast hits to 3182 proteins in 353 species: Archae - 0; Bacteria - 481; Metazoa - 1959; Fungi - 405; Plants - 180; Viruses - 10; Other Eukaryotes - 2313 (source: NCBI BLink). | chr3:8988398-8990737 FORWARD LENGTH=2175\", @accession=\"15531\">, #<Bio::Blast::Report::Hit:0x000055fae04d65d0 @hsps=[#<Bio::Blast::Report::Hsp:0x000055fae04c0d48 @hsp={}, @num=1, @bit_score=33.7469, @score=36, @evalue=0.961, @query_from=246, @query_to=278, @hit_from=74, @hit_to=42, @pattern_from=0, @pattern_to=0, @query_frame=1, @hit_frame=-1, @identity=27, @positive=27, @gaps=0, @align_len=33, @density=0, @qseq=\"GAAACTTTCGAAGAAAATGCGGAAGATGATGGA\", @hseq=\"GAAGCTGTCGAAGAAGAAGATGAAGATGATGGA\", @midline=\"||| || |||||||| | |  ||||||||||||\">], @query_id=\"Query_1\", @query_def=\"myseq\", @query_len=351, @num=8, @hit_id=\"gnl|BL_ORD_ID|3768\", @len=519, @definition=\"AT1G34000.1 | Symbols: OHP2 | one-helix protein 2 | chr1:12358151-12358902 REVERSE LENGTH=519\", @accession=\"3768\">, #<Bio::Blast::Report::Hit:0x000055fae04b4a98 @hsps=[#<Bio::Blast::Report::Hsp:0x000055fae047dbd8 @hsp={}, @num=1, @bit_score=31.9436, @score=34, @evalue=3.35422, @query_from=272, @query_to=291, @hit_from=1059, @hit_to=1040, @pattern_from=0, @pattern_to=0, @query_frame=1, @hit_frame=-1, @identity=19, @positive=19, @gaps=0, @align_len=20, @density=0, @qseq=\"TGATGGAGCACGAAAAACAT\", @hseq=\"TGATGGAGCACGGAAAACAT\", @midline=\"|||||||||||| |||||||\">], @query_id=\"Query_1\", @query_def=\"myseq\", @query_len=351, @num=9, @hit_id=\"gnl|BL_ORD_ID|35164\", @len=1977, @definition=\"AT5G35160.2 | Symbols:  | Endomembrane protein 70 protein family | chr5:13414945-13416921 FORWARD LENGTH=1977\", @accession=\"35164\">, #<Bio::Blast::Report::Hit:0x000055fae04955d0 @hsps=[#<Bio::Blast::Report::Hsp:0x000055fae046af38 @hsp={}, @num=1, @bit_score=31.9436, @score=34, @evalue=3.35422, @query_from=255, @query_to=282, @hit_from=70, @hit_to=42, @pattern_from=0, @pattern_to=0, @query_frame=1, @hit_frame=-1, @identity=25, @positive=25, @gaps=1, @align_len=29, @density=0, @qseq=\"GAAGAAAA-TGCGGAAGATGATGGAGCAC\", @hseq=\"GAAGAAAGGTGAGGAAGATGATGGAGAAC\", @midline=\"|||||||  || |||||||||||||| ||\">], @query_id=\"Query_1\", @query_def=\"myseq\", @query_len=351, @num=10, @hit_id=\"gnl|BL_ORD_ID|33183\", @len=1446, @definition=\"AT5G58540.2 | Symbols:  | Protein kinase superfamily protein | chr5:23663400-23665182 FORWARD LENGTH=1446\", @accession=\"33183\">, #<Bio::Blast::Report::Hit:0x000055fae04624c8 @hsps=[#<Bio::Blast::Report::Hsp:0x000055fae0454210 @hsp={}, @num=1, @bit_score=31.9436, @score=34, @evalue=3.35422, @query_from=272, @query_to=291, @hit_from=975, @hit_to=956, @pattern_from=0, @pattern_to=0, @query_frame=1, @hit_frame=-1, @identity=19, @positive=19, @gaps=0, @align_len=20, @density=0, @qseq=\"TGATGGAGCACGAAAAACAT\", @hseq=\"TGATGGAGCACGGAAAACAT\", @midline=\"|||||||||||| |||||||\">], @query_id=\"Query_1\", @query_def=\"myseq\", @query_len=351, @num=11, @hit_id=\"gnl|BL_ORD_ID|31852\", @len=1893, @definition=\"AT5G35160.1 | Symbols:  | Endomembrane protein 70 protein family | chr5:13414945-13416921 FORWARD LENGTH=1893\", @accession=\"31852\">, #<Bio::Blast::Report::Hit:0x000055fae043f928 @hsps=[#<Bio::Blast::Report::Hsp:0x000055fae041f880 @hsp={}, @num=1, @bit_score=31.9436, @score=34, @evalue=3.35422, @query_from=217, @query_to=243, @hit_from=328, @hit_to=354, @pattern_from=0, @pattern_to=0, @query_frame=1, @hit_frame=1, @identity=23, @positive=23, @gaps=0, @align_len=27, @density=0, @qseq=\"AAGGATGAAGAAGTCTCAAAGCAGAGT\", @hseq=\"AAGGATGAAGAAGCAACAAAACAGAGT\", @midline=\"|||||||||||||   |||| ||||||\">], @query_id=\"Query_1\", @query_def=\"myseq\", @query_len=351, @num=12, @hit_id=\"gnl|BL_ORD_ID|31033\", @len=738, @definition=\"AT5G51840.1 | Symbols:  | unknown protein; Has 30201 Blast hits to 17322 proteins in 780 species: Archae - 12; Bacteria - 1396; Metazoa - 17338; Fungi - 3422; Plants - 5037; Viruses - 0; Other Eukaryotes - 2996 (source: NCBI BLink). | chr5:21072143-21074131 FORWARD LENGTH=738\", @accession=\"31033\">, #<Bio::Blast::Report::Hit:0x000055fae040f048 @hsps=[#<Bio::Blast::Report::Hsp:0x000055fae0401100 @hsp={}, @num=1, @bit_score=31.9436, @score=34, @evalue=3.35422, @query_from=259, @query_to=280, @hit_from=4229, @hit_to=4250, @pattern_from=0, @pattern_to=0, @query_frame=1, @hit_frame=1, @identity=20, @positive=20, @gaps=0, @align_len=22, @density=0, @qseq=\"AAAATGCGGAAGATGATGGAGC\", @hseq=\"AAAATGCGGAAGATGCAGGAGC\", @midline=\"|||||||||||||||  |||||\">], @query_id=\"Query_1\", @query_def=\"myseq\", @query_len=351, @num=13, @hit_id=\"gnl|BL_ORD_ID|30720\", @len=14121, @definition=\"AT5G23110.1 | Symbols:  | Zinc finger, C3HC4 type (RING finger) family protein | chr5:7758307-7775509 FORWARD LENGTH=14121\", @accession=\"30720\">, #<Bio::Blast::Report::Hit:0x000055fae03e83a8 @hsps=[#<Bio::Blast::Report::Hsp:0x000055fae03c18c0 @hsp={}, @num=1, @bit_score=31.9436, @score=34, @evalue=3.35422, @query_from=267, @query_to=283, @hit_from=2426, @hit_to=2410, @pattern_from=0, @pattern_to=0, @query_frame=1, @hit_frame=-1, @identity=17, @positive=17, @gaps=0, @align_len=17, @density=0, @qseq=\"GAAGATGATGGAGCACG\", @hseq=\"GAAGATGATGGAGCACG\", @midline=\"|||||||||||||||||\">], @query_id=\"Query_1\", @query_def=\"myseq\", @query_len=351, @num=14, @hit_id=\"gnl|BL_ORD_ID|27568\", @len=3885, @definition=\"AT5G03280.1 | Symbols: EIN2, PIR2, CKR1, ERA3, ORE3, ORE2, ATEIN2 | NRAMP metal ion transporter family protein | chr5:788589-793066 FORWARD LENGTH=3885\", @accession=\"27568\">, #<Bio::Blast::Report::Hit:0x000055fae03bfdb8 @hsps=[#<Bio::Blast::Report::Hsp:0x000055fae03a2588 @hsp={}, @num=1, @bit_score=31.9436, @score=34, @evalue=3.35422, @query_from=255, @query_to=282, @hit_from=70, @hit_to=42, @pattern_from=0, @pattern_to=0, @query_frame=1, @hit_frame=-1, @identity=25, @positive=25, @gaps=1, @align_len=29, @density=0, @qseq=\"GAAGAAAA-TGCGGAAGATGATGGAGCAC\", @hseq=\"GAAGAAAGGTGAGGAAGATGATGGAGAAC\", @midline=\"|||||||  || |||||||||||||| ||\">], @query_id=\"Query_1\", @query_def=\"myseq\", @query_len=351, @num=15, @hit_id=\"gnl|BL_ORD_ID|27354\", @len=1455, @definition=\"AT5G58540.1 | Symbols:  | Protein kinase superfamily protein | chr5:23663400-23665182 FORWARD LENGTH=1455\", @accession=\"27354\">, #<Bio::Blast::Report::Hit:0x000055fae036bce0 @hsps=[#<Bio::Blast::Report::Hsp:0x000055fae039fb58 @hsp={}, @num=1, @bit_score=31.9436, @score=34, @evalue=3.35422, @query_from=244, @query_to=260, @hit_from=49, @hit_to=65, @pattern_from=0, @pattern_to=0, @query_frame=1, @hit_frame=1, @identity=17, @positive=17, @gaps=0, @align_len=17, @density=0, @qseq=\"AAGAAACTTTCGAAGAA\", @hseq=\"AAGAAACTTTCGAAGAA\", @midline=\"|||||||||||||||||\">], @query_id=\"Query_1\", @query_def=\"myseq\", @query_len=351, @num=16, @hit_id=\"gnl|BL_ORD_ID|23952\", @len=939, @definition=\"AT4G19580.1 | Symbols:  | DNAJ heat shock N-terminal domain-containing protein | chr4:10668367-10669452 FORWARD LENGTH=939\", @accession=\"23952\">, #<Bio::Blast::Report::Hit:0x000055fadf95bb88 @hsps=[#<Bio::Blast::Report::Hsp:0x000055fadff39d48 @hsp={}, @num=1, @bit_score=31.9436, @score=34, @evalue=3.35422, @query_from=232, @query_to=251, @hit_from=1210, @hit_to=1191, @pattern_from=0, @pattern_to=0, @query_frame=1, @hit_frame=-1, @identity=19, @positive=19, @gaps=0, @align_len=20, @density=0, @qseq=\"TCAAAGCAGAGTAAGAAACT\", @hseq=\"TCATAGCAGAGTAAGAAACT\", @midline=\"||| ||||||||||||||||\">], @query_id=\"Query_1\", @query_def=\"myseq\", @query_len=351, @num=17, @hit_id=\"gnl|BL_ORD_ID|22133\", @len=1737, @definition=\"AT4G22760.1 | Symbols:  | Tetratricopeptide repeat (TPR)-like superfamily protein | chr4:11960553-11962289 FORWARD LENGTH=1737\", @accession=\"22133\">, #<Bio::Blast::Report::Hit:0x000055fadff2ec18 @hsps=[#<Bio::Blast::Report::Hsp:0x000055fadfef2218 @hsp={}, @num=1, @bit_score=31.9436, @score=34, @evalue=3.35422, @query_from=172, @query_to=196, @hit_from=570, @hit_to=594, @pattern_from=0, @pattern_to=0, @query_frame=1, @hit_frame=1, @identity=22, @positive=22, @gaps=0, @align_len=25, @density=0, @qseq=\"GGAGCTAAACAACCAGCTAAGAGAA\", @hseq=\"GGAGCTAATCAAAGAGCTAAGAGAA\", @midline=\"|||||||| |||  |||||||||||\">], @query_id=\"Query_1\", @query_def=\"myseq\", @query_len=351, @num=18, @hit_id=\"gnl|BL_ORD_ID|18084\", @len=2661, @definition=\"AT3G22400.1 | Symbols: LOX5 | PLAT/LH2 domain-containing lipoxygenase family protein | chr3:7927011-7931167 FORWARD LENGTH=2661\", @accession=\"18084\">, #<Bio::Blast::Report::Hit:0x000055fadfed89d0 @hsps=[#<Bio::Blast::Report::Hsp:0x000055fadfe93330 @hsp={}, @num=1, @bit_score=31.9436, @score=34, @evalue=3.35422, @query_from=255, @query_to=279, @hit_from=25, @hit_to=49, @pattern_from=0, @pattern_to=0, @query_frame=1, @hit_frame=1, @identity=22, @positive=22, @gaps=0, @align_len=25, @density=0, @qseq=\"GAAGAAAATGCGGAAGATGATGGAG\", @hseq=\"GAAGAAGAAGAGGAAGATGATGGAG\", @midline=\"|||||| | | ||||||||||||||\">], @query_id=\"Query_1\", @query_def=\"myseq\", @query_len=351, @num=19, @hit_id=\"gnl|BL_ORD_ID|3922\", @len=1782, @definition=\"AT1G64180.1 | Symbols:  | intracellular protein transport protein USO1-related | chr1:23821640-23824193 FORWARD LENGTH=1782\", @accession=\"3922\">, #<Bio::Blast::Report::Hit:0x000055fadfe673c0 @hsps=[#<Bio::Blast::Report::Hsp:0x000055fadfe0ec20 @hsp={}, @num=1, @bit_score=31.9436, @score=34, @evalue=3.35422, @query_from=283, @query_to=312, @hit_from=583, @hit_to=612, @pattern_from=0, @pattern_to=0, @query_frame=1, @hit_frame=1, @identity=25, @positive=25, @gaps=0, @align_len=30, @density=0, @qseq=\"GAAAAACATTTACAGGAAAAAGAATTTGAA\", @hseq=\"GAAAAACATTTCTTGGAGAAAGAAGTTGAA\", @midline=\"|||||||||||   ||| |||||| |||||\">], @query_id=\"Query_1\", @query_def=\"myseq\", @query_len=351, @num=20, @hit_id=\"gnl|BL_ORD_ID|2756\", @len=1236, @definition=\"AT1G04890.1 | Symbols:  | Protein of unknown function, DUF593 | chr1:1381116-1382546 REVERSE LENGTH=1236\", @accession=\"2756\">]"
      ]
     },
     "execution_count": 13,
     "metadata": {},
     "output_type": "execute_result"
    }
   ],
   "source": [
    "require 'bio'\n",
    "require 'stringio'\n",
    "\n",
    "# blast is installed globally, so you don't need to include the full path to blastn\n",
    "factory = Bio::Blast.local('blastn', '/home/osboxes/BioinformaticsCourseGit/Retos_Assignments_JLR/Assignment4/blast_databases/arabidopsis_thaliana')   # wherever your database is....a BLAST \"factory\" \n",
    "#factory = Bio::Blast.local('tblastx', '/home/osboxes/Databases/EBOLA') # \n",
    "\n",
    "$stderr.puts \"Searching ... \"  # output to \"standard error\", this is to output comments to yourself, or error messages\n",
    "                               # that are not intended to be part of the output of the software (pink background)\n",
    "\n",
    "# executes homology search. Returns Bio::Blast::Report object.\n",
    "report = factory.query(\">myseq\\nATGGGTGAGTCCTCTGGATCAAGCAGTTCATTGGCTGCTATAAATTCGTCCAACATTGGGTTTCAGCTCCTAAAGAAGCATGGCTGGAAGGAAGGCACTGGTCTTGGAATCGCTGAACAGGGTATATTGGTGCCTCTACAAGCAGAGCCAAAACATAACAAACGAGGAGTGGGAGCTAAACAACCAGCTAAGAGAAAAGTGGCTCAGCCTCAGGCTAAGGATGAAGAAGTCTCAAAGCAGAGTAAGAAACTTTCGAAGAAAATGCGGAAGATGATGGAGCACGAAAAACATTTACAGGAAAAAGAATTTGAACGAGCCTTCTTTAGGGAGTTCTGGCCCGATAATGTATAA\") # this is a Bio::Blast::Report\n",
    "\n",
    "#puts factory.output   # to see the blast report, verbatim\n",
    "#puts report.hits\n",
    "# Iterates over each hit\n",
    "report.each do |hit|\n",
    "  print \"#{hit.hit_id} : evalue #{hit.evalue}\\t#{hit.target_id} at \"\n",
    "  puts \"#{hit.lap_at}\"   # this tells you start and end of both the query and the hit sequences\n",
    "  puts\n",
    "  puts hit.definition\n",
    "  hit.each do |hsp|\n",
    "    #puts hsp.qseq  # this is the gapped Alignment as text of the query\n",
    "    #puts hsp.hseq  # this is the gapped Alignment as text of the hit\n",
    "  end\n",
    "end"
   ]
  },
  {
   "cell_type": "code",
   "execution_count": 10,
   "metadata": {},
   "outputs": [
    {
     "name": "stdout",
     "output_type": "stream",
     "text": [
      "/home/osboxes/BioinformaticsCourseGit/Retos_Assignments_JLR/Assignment4\n"
     ]
    }
   ],
   "source": [
    "puts Dir.pwd"
   ]
  },
  {
   "cell_type": "code",
   "execution_count": 14,
   "metadata": {},
   "outputs": [
    {
     "data": {
      "text/plain": [
       "true"
      ]
     },
     "execution_count": 14,
     "metadata": {},
     "output_type": "execute_result"
    }
   ],
   "source": [
    "\"\".empty?"
   ]
  },
  {
   "cell_type": "code",
   "execution_count": 18,
   "metadata": {},
   "outputs": [
    {
     "data": {
      "text/plain": [
       "#<StringIO:0x000055fadfc37730>"
      ]
     },
     "execution_count": 18,
     "metadata": {},
     "output_type": "execute_result"
    }
   ],
   "source": [
    "require 'bio'\n",
    "require 'stringio'\n",
    "find = StringIO.new(\">myseq\\nAGCCCCGTTTTTTGCCACTGGTTATTTAATTAAGCCAATAACGTCAAGTGCTAGATCTAGTGAGTGGTAT\")"
   ]
  },
  {
   "cell_type": "code",
   "execution_count": 65,
   "metadata": {},
   "outputs": [
    {
     "name": "stdout",
     "output_type": "stream",
     "text": [
      "[:dbclass, :dbclass=, :raw=, :skip_leader_mode, :to_io, :next_entry, :autodetect, :rewind, :pos, :entry_raw, :entry_pos_flag, :entry_pos_flag=, :entry_start_pos, :entry_ended_pos, :close, :entry, :eof?, :pos=, :skip_leader_mode=, :raw, :io, :each_entry, :gets, :each, :path, :to_h, :include?, :to_set, :max, :min, :find, :to_a, :entries, :sort, :sort_by, :grep, :grep_v, :count, :detect, :find_index, :find_all, :select, :reject, :collect, :map, :flat_map, :collect_concat, :inject, :reduce, :partition, :group_by, :first, :all?, :any?, :one?, :none?, :minmax, :min_by, :max_by, :minmax_by, :member?, :each_with_index, :reverse_each, :each_slice, :each_cons, :each_with_object, :zip, :take, :take_while, :drop, :drop_while, :cycle, :chunk, :slice_before, :slice_after, :slice_when, :chunk_while, :sum, :uniq, :lazy, :__binding__, :dclone, :pry, :pretty_print_inspect, :pretty_print, :pretty_print_instance_variables, :pretty_print_cycle, :to_json, :instance_variable_set, :instance_variable_defined?, :remove_instance_variable, :instance_of?, :kind_of?, :is_a?, :tap, :instance_variable_get, :instance_variables, :method, :public_method, :singleton_method, :define_singleton_method, :public_send, :pretty_inspect, :extend, :to_enum, :enum_for, :<=>, :===, :=~, :!~, :eql?, :respond_to?, :freeze, :inspect, :object_id, :send, :to_s, :display, :nil?, :hash, :class, :singleton_class, :clone, :dup, :itself, :yield_self, :taint, :tainted?, :untrust, :untaint, :trust, :untrusted?, :methods, :frozen?, :protected_methods, :singleton_methods, :public_methods, :private_methods, :!, :equal?, :instance_eval, :==, :instance_exec, :!=, :__send__, :__id__]\n"
     ]
    }
   ],
   "source": [
    "require 'bio'\n",
    "require 'stringio'\n",
    "\n",
    "#puts Dir.pwd\n",
    "\n",
    "\n",
    "factory = Bio::Fasta.local('/home/osboxes/Anaconda/bin/fasta36', '../Databases/EBOLA.fa') \n",
    "\n",
    "# you haven't seen this before!  The second argument must be a stream (respond to \".read\", \n",
    "# so make the string look like an opened file\n",
    "find = StringIO.new(\">myseq\\nAGCCCCGTTTTTTGCCACTGGTTATTTAATTAAGCCAATAACGTCAAGTGCTAGATCTAGTGAGTGGTAT\")\n",
    "\n",
    "ff = Bio::FlatFile.auto(find)   # 'find' is a streamable object\n",
    "puts ff.public_methods"
   ]
  },
  {
   "cell_type": "code",
   "execution_count": 63,
   "metadata": {},
   "outputs": [
    {
     "name": "stdout",
     "output_type": "stream",
     "text": [
      ">myseq\n",
      "AGCCCCGTTTTTTGCCACTGGTTATTTAATTAAGCCAATAACGTCAAGTGCTAGATCTAGTGAGTGGTAT\n",
      "\n",
      "Bio::Sequence::NA\n"
     ]
    }
   ],
   "source": [
    "ff.rewind\n",
    "puts ff.next_entry\n",
    "ff.rewind\n",
    "puts ff.next_entry.to_seq.guess.to_s"
   ]
  },
  {
   "cell_type": "code",
   "execution_count": 66,
   "metadata": {},
   "outputs": [
    {
     "name": "stdout",
     "output_type": "stream",
     "text": [
      ">myseq\n",
      "AGCCCCGTTTTTTGCCACTGGTTATTTAATTAAGCCAATAACGTCAAGTGCTAGATCTAGTGAGTGGTAT\n",
      "\n",
      "Bio::FastaFormat\n"
     ]
    }
   ],
   "source": [
    "ff.each_entry do |entry|\n",
    "  puts entry\n",
    "  puts entry.class\n",
    "end"
   ]
  },
  {
   "cell_type": "code",
   "execution_count": null,
   "metadata": {},
   "outputs": [],
   "source": []
  }
 ],
 "metadata": {
  "kernelspec": {
   "display_name": "Ruby 2.5.1",
   "language": "ruby",
   "name": "ruby"
  },
  "language_info": {
   "file_extension": ".rb",
   "mimetype": "application/x-ruby",
   "name": "ruby",
   "version": "2.5.1"
  }
 },
 "nbformat": 4,
 "nbformat_minor": 2
}
